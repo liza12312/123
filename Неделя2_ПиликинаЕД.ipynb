{
  "nbformat": 4,
  "nbformat_minor": 0,
  "metadata": {
    "colab": {
      "provenance": [],
      "authorship_tag": "ABX9TyPEiaUjqls5v0pHi1945yGo",
      "include_colab_link": true
    },
    "kernelspec": {
      "name": "python3",
      "display_name": "Python 3"
    },
    "language_info": {
      "name": "python"
    }
  },
  "cells": [
    {
      "cell_type": "markdown",
      "metadata": {
        "id": "view-in-github",
        "colab_type": "text"
      },
      "source": [
        "<a href=\"https://colab.research.google.com/github/liza12312/123/blob/main/%D0%9D%D0%B5%D0%B4%D0%B5%D0%BB%D1%8F2_%D0%9F%D0%B8%D0%BB%D0%B8%D0%BA%D0%B8%D0%BD%D0%B0%D0%95%D0%94.ipynb\" target=\"_parent\"><img src=\"https://colab.research.google.com/assets/colab-badge.svg\" alt=\"Open In Colab\"/></a>"
      ]
    },
    {
      "cell_type": "markdown",
      "source": [
        "Задача №1"
      ],
      "metadata": {
        "id": "s2P89YCdv8DL"
      }
    },
    {
      "cell_type": "code",
      "execution_count": 5,
      "metadata": {
        "colab": {
          "base_uri": "https://localhost:8080/"
        },
        "id": "XBtJnxxtvpcS",
        "outputId": "793bc0a2-fa52-4fcf-8406-61e23a8cee97"
      },
      "outputs": [
        {
          "output_type": "stream",
          "name": "stdout",
          "text": [
            "9\n",
            "5\n",
            "10.295630140987\n"
          ]
        }
      ],
      "source": [
        "k1=int(input())\n",
        "k2=int(input())\n",
        "G=(k1**2 + k2**2)\n",
        "G=G**0.5\n",
        "print(G)"
      ]
    },
    {
      "cell_type": "markdown",
      "source": [
        "Задача №2"
      ],
      "metadata": {
        "id": "dlgdaFPSzEbN"
      }
    },
    {
      "cell_type": "code",
      "source": [
        "a=int(input())\n",
        "next=a+1\n",
        "prev=a-1\n",
        "print(\"The next number for the number \",a, \" is \", str(next) +\".\")\n",
        "print(\"The previous number for the number \",a, \" is \", str(prev) +\".\")"
      ],
      "metadata": {
        "colab": {
          "base_uri": "https://localhost:8080/"
        },
        "id": "WWO5K4GEzIn_",
        "outputId": "28a46c67-3deb-4f61-a66c-c152a72e2bfd"
      },
      "execution_count": 7,
      "outputs": [
        {
          "output_type": "stream",
          "name": "stdout",
          "text": [
            "26\n",
            "The next number for the number  26  is  27.\n",
            "The previous number for the number  26  is  25.\n"
          ]
        }
      ]
    },
    {
      "cell_type": "markdown",
      "source": [
        "задача №3"
      ],
      "metadata": {
        "id": "SWVLzKGN6cZP"
      }
    },
    {
      "cell_type": "code",
      "source": [
        "a=input()\n",
        "if a == a[::-1] and len(a)==4:\n",
        "    print(1)\n",
        "else:\n",
        "    print(0)"
      ],
      "metadata": {
        "colab": {
          "base_uri": "https://localhost:8080/"
        },
        "id": "h1q7PbVc6g4L",
        "outputId": "129e1962-a4af-4457-9ae1-19b2a3cd5b6a"
      },
      "execution_count": 12,
      "outputs": [
        {
          "output_type": "stream",
          "name": "stdout",
          "text": [
            "565\n",
            "0\n"
          ]
        }
      ]
    },
    {
      "cell_type": "markdown",
      "source": [
        "Задача №4"
      ],
      "metadata": {
        "id": "HTL15mcQ6iKY"
      }
    },
    {
      "cell_type": "code",
      "source": [
        "h = int(input())\n",
        "a = int(input())\n",
        "b = int(input())\n",
        "oct=h-a\n",
        "pod=a-b\n",
        "days=(oct - 1)//pod + 1 + 1\n",
        "print(days)"
      ],
      "metadata": {
        "colab": {
          "base_uri": "https://localhost:8080/"
        },
        "id": "0VsP8PXQ6nTx",
        "outputId": "dce59782-4a31-4e16-ead8-d103445fdde9"
      },
      "execution_count": 15,
      "outputs": [
        {
          "output_type": "stream",
          "name": "stdout",
          "text": [
            "58\n",
            "5\n",
            "3\n",
            "28\n"
          ]
        }
      ]
    },
    {
      "cell_type": "markdown",
      "source": [
        "Задача №5"
      ],
      "metadata": {
        "id": "LAF5CYED6oBz"
      }
    },
    {
      "cell_type": "code",
      "source": [
        "S = int(input())\n",
        "h = S // 3600\n",
        "m = S // 60 % 60\n",
        "s = S % 60\n",
        "time=f\"{h}:{m:02}:{s:02}\"\n",
        "print(time)"
      ],
      "metadata": {
        "colab": {
          "base_uri": "https://localhost:8080/"
        },
        "id": "Ke7DpAhy6s34",
        "outputId": "4d21dd74-153a-4fe5-965a-dcc6fb5b1ba3"
      },
      "execution_count": 19,
      "outputs": [
        {
          "output_type": "stream",
          "name": "stdout",
          "text": [
            "588\n",
            "0:09:48\n"
          ]
        }
      ]
    },
    {
      "cell_type": "markdown",
      "source": [
        "Задача №6"
      ],
      "metadata": {
        "id": "XS9_D9ci6tZe"
      }
    },
    {
      "cell_type": "code",
      "source": [
        "h1 = int(input())\n",
        "m1 = int(input())\n",
        "s1 = int(input())\n",
        "h2 = int(input())\n",
        "m2 = int(input())\n",
        "s2 = int(input())\n",
        "n = (h1 * 3600 + m1 * 60 + s1) - (h2 * 3600 + m2 * 60 + s2)\n",
        "print(n)"
      ],
      "metadata": {
        "colab": {
          "base_uri": "https://localhost:8080/"
        },
        "id": "GQFiIiAw6wG9",
        "outputId": "be339f55-1e4f-4857-f7e4-d760ebb13b6f"
      },
      "execution_count": 20,
      "outputs": [
        {
          "output_type": "stream",
          "name": "stdout",
          "text": [
            "15\n",
            "12\n",
            "15\n",
            "12\n",
            "15\n",
            "12\n",
            "10623\n"
          ]
        }
      ]
    },
    {
      "cell_type": "markdown",
      "source": [
        "Задача №7"
      ],
      "metadata": {
        "id": "BroLit5q6wkY"
      }
    },
    {
      "cell_type": "code",
      "source": [
        "a = input ()\n",
        "b = input ()\n",
        "c=a\n",
        "a=b\n",
        "b=c\n",
        "print (a, b)"
      ],
      "metadata": {
        "colab": {
          "base_uri": "https://localhost:8080/"
        },
        "id": "ijezQ2Qp6zl5",
        "outputId": "508f51fc-2756-45fb-96aa-3938535a2aba"
      },
      "execution_count": 21,
      "outputs": [
        {
          "output_type": "stream",
          "name": "stdout",
          "text": [
            "15\n",
            "12\n",
            "12 15\n"
          ]
        }
      ]
    },
    {
      "cell_type": "markdown",
      "source": [
        "Задача №8"
      ],
      "metadata": {
        "id": "bJbx56Ip60Vw"
      }
    },
    {
      "cell_type": "code",
      "source": [
        "n=int(input())\n",
        "k=int(input())\n",
        "print( k % n)"
      ],
      "metadata": {
        "colab": {
          "base_uri": "https://localhost:8080/"
        },
        "id": "hbXQ2hRm63gS",
        "outputId": "801f874e-8c60-496b-c7fb-c2da2c76946e"
      },
      "execution_count": 28,
      "outputs": [
        {
          "output_type": "stream",
          "name": "stdout",
          "text": [
            "12\n",
            "25\n",
            "1\n"
          ]
        }
      ]
    },
    {
      "cell_type": "markdown",
      "source": [
        "Задача №9"
      ],
      "metadata": {
        "id": "RgS2y9Mo63_F"
      }
    },
    {
      "cell_type": "code",
      "source": [
        "n=int(input())\n",
        "a=n//100\n",
        "b=(n//10)%10\n",
        "c=n%10\n",
        "m=a+b+c\n",
        "print(m)"
      ],
      "metadata": {
        "colab": {
          "base_uri": "https://localhost:8080/"
        },
        "id": "1gQAUTXU66hO",
        "outputId": "f556ec9c-1330-44ea-8435-6aac002a913a"
      },
      "execution_count": 22,
      "outputs": [
        {
          "output_type": "stream",
          "name": "stdout",
          "text": [
            "256\n",
            "13\n"
          ]
        }
      ]
    }
  ]
}