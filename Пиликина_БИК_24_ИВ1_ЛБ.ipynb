{
  "nbformat": 4,
  "nbformat_minor": 0,
  "metadata": {
    "colab": {
      "provenance": [],
      "authorship_tag": "ABX9TyNFceXakhEBWBd7F38XqG6a",
      "include_colab_link": true
    },
    "kernelspec": {
      "name": "python3",
      "display_name": "Python 3"
    },
    "language_info": {
      "name": "python"
    }
  },
  "cells": [
    {
      "cell_type": "markdown",
      "metadata": {
        "id": "view-in-github",
        "colab_type": "text"
      },
      "source": [
        "<a href=\"https://colab.research.google.com/github/liza12312/123/blob/main/%D0%9F%D0%B8%D0%BB%D0%B8%D0%BA%D0%B8%D0%BD%D0%B0_%D0%91%D0%98%D0%9A_24_%D0%98%D0%921_%D0%9B%D0%91.ipynb\" target=\"_parent\"><img src=\"https://colab.research.google.com/assets/colab-badge.svg\" alt=\"Open In Colab\"/></a>"
      ]
    },
    {
      "cell_type": "markdown",
      "source": [
        "Практика 2"
      ],
      "metadata": {
        "id": "NUJ1feuGtREa"
      }
    },
    {
      "cell_type": "markdown",
      "source": [
        "задание 1"
      ],
      "metadata": {
        "id": "Gj7Rb_jntQ4K"
      }
    },
    {
      "cell_type": "code",
      "source": [
        "a=int(input())\n",
        "b=int(input())\n",
        "s=(a*b)/2\n",
        "print(\"площадь =\", s)"
      ],
      "metadata": {
        "colab": {
          "base_uri": "https://localhost:8080/"
        },
        "id": "an7g_ViluhaP",
        "outputId": "768a3937-f747-4c12-f9c4-d9d7a1888531"
      },
      "execution_count": 1,
      "outputs": [
        {
          "output_type": "stream",
          "name": "stdout",
          "text": [
            "5\n",
            "4\n",
            "площадь = 10.0\n"
          ]
        }
      ]
    },
    {
      "cell_type": "markdown",
      "source": [
        "Задание 2"
      ],
      "metadata": {
        "id": "IcLWkA94tXSj"
      }
    },
    {
      "cell_type": "code",
      "source": [
        "a=int(input())\n",
        "x1=a//100\n",
        "x2=(a//10)%10\n",
        "x3=a%10\n",
        "print(x1, x2, x3,)"
      ],
      "metadata": {
        "colab": {
          "base_uri": "https://localhost:8080/"
        },
        "id": "XsqvIclNuiDY",
        "outputId": "a25fd869-4712-4467-f7a2-b43d1f7f6331"
      },
      "execution_count": 2,
      "outputs": [
        {
          "output_type": "stream",
          "name": "stdout",
          "text": [
            "333\n",
            "3 3 3\n"
          ]
        }
      ]
    },
    {
      "cell_type": "markdown",
      "source": [
        "Задание 3"
      ],
      "metadata": {
        "id": "fZ5HkRsztYW9"
      }
    },
    {
      "cell_type": "code",
      "source": [
        "n=int(input())\n",
        "x3=(n//86400)\n",
        "x1=(n//3600)%3600\n",
        "x2=(n//60)%60\n",
        "print(x1, x2, x3)"
      ],
      "metadata": {
        "colab": {
          "base_uri": "https://localhost:8080/"
        },
        "id": "Wh-3cK6Guijn",
        "outputId": "9b71329e-d587-40c8-8909-ad1b0b6b3584"
      },
      "execution_count": 4,
      "outputs": [
        {
          "output_type": "stream",
          "name": "stdout",
          "text": [
            "7548\n",
            "2 5 0\n"
          ]
        }
      ]
    },
    {
      "cell_type": "markdown",
      "source": [
        "Практика 3"
      ],
      "metadata": {
        "id": "lYdNSQVktioQ"
      }
    },
    {
      "cell_type": "markdown",
      "source": [
        "Задание 1"
      ],
      "metadata": {
        "id": "e_EeINfptlWd"
      }
    },
    {
      "cell_type": "code",
      "source": [
        "a=input()\n",
        "b=a.split(',')\n",
        "c=b[0]\n",
        "d=b[1]\n",
        "e=b[2]\n",
        "f=b[3]\n",
        "print(len(c), len(d), len(e), len(f), sep=',')"
      ],
      "metadata": {
        "colab": {
          "base_uri": "https://localhost:8080/"
        },
        "id": "xQzVwCXyujN6",
        "outputId": "005c3aa7-4613-4ce5-e8ee-af33b1a09f67"
      },
      "execution_count": 5,
      "outputs": [
        {
          "output_type": "stream",
          "name": "stdout",
          "text": [
            "chgf, gfytfgvy, yfdyt, yfyt\n",
            "4,9,6,5\n"
          ]
        }
      ]
    },
    {
      "cell_type": "markdown",
      "source": [
        "Задание 2"
      ],
      "metadata": {
        "id": "eTr2wfSLtnvD"
      }
    },
    {
      "cell_type": "code",
      "source": [
        "n = 8\n",
        "m = 5\n",
        "string = \"Привет мир\"\n",
        "print(string[:n].split())\n",
        "print(string[m:].split())"
      ],
      "metadata": {
        "colab": {
          "base_uri": "https://localhost:8080/"
        },
        "id": "R3SzIQbfujt5",
        "outputId": "19fa371c-8ea8-4a4f-ed3e-0a4b82ad1fba"
      },
      "execution_count": 6,
      "outputs": [
        {
          "output_type": "stream",
          "name": "stdout",
          "text": [
            "['Привет', 'м']\n",
            "['т', 'мир']\n"
          ]
        }
      ]
    },
    {
      "cell_type": "markdown",
      "source": [
        "Практика 4"
      ],
      "metadata": {
        "id": "O9clhPZbtp1r"
      }
    },
    {
      "cell_type": "markdown",
      "source": [
        "Задание 1"
      ],
      "metadata": {
        "id": "M5n4753etsMB"
      }
    },
    {
      "cell_type": "code",
      "source": [
        "error=int(input())\n",
        "match error:\n",
        "  case 400:\n",
        "    print(\"«неправильный, некорректный запрос» (Bad Request). Сервер обнаружил в запросе клиента синтаксическую ошибку.\")\n",
        "  case 401:\n",
        "    print(\"«не авторизован» (Unauthorized). Для доступа к запрашиваемому ресурсу требуется аутентификация. \")\n",
        "  case 402:\n",
        "    print(\"«необходима оплата» (Payment Required). 5 Внутренняя ошибка или ошибка конфигурации сервера. \")\n",
        "  case 403:\n",
        "    print(\"«доступ к ресурсу запрещён» (Forbidden). Доступ к документу запрещён\")\n",
        "  case 404:\n",
        "    print(\" «ресурс не найден» (Not Found). 45 Документ не существует.\")\n",
        "  case 405:\n",
        "    print(\" «недопустимый метод» (Method Not Allowed). Метод, определённый в строке запроса, не дозволено применять для указанного ресурса\")\n",
        "  case 406:\n",
        "    print(\"«неприемлемый запрос» (Not Acceptable). Нужный документ существует, но не в том формате (язык или кодировка не поддерживаются)\")\n",
        "  case 407:\n",
        "    print(\" «требуется идентификация прокси, файервола» (Proxy Authentication Required). Необходима регистрация на прокси-сервере.\")\n",
        "  case 408:\n",
        "    print(\" «время запроса истекло» (Request Timeout). Сайт не передал полный запрос в течение установленного времени и робот разорвал соединение.\")\n",
        "  case 409:\n",
        "    print(\" «конфликт» (Conflict). Запрос конфликтует с другим запросом или с конфигурацией сервера.\")\n",
        "  case 410:\n",
        "    print(\" «ресурс недоступен» (Gone). Затребованный ресурс был окончательно удалён с сайта.\")"
      ],
      "metadata": {
        "colab": {
          "base_uri": "https://localhost:8080/"
        },
        "id": "urfpC0T7ukm9",
        "outputId": "41476ef3-ed48-4d55-91f3-8040630daee1"
      },
      "execution_count": 7,
      "outputs": [
        {
          "output_type": "stream",
          "name": "stdout",
          "text": [
            "405\n",
            " «недопустимый метод» (Method Not Allowed). Метод, определённый в строке запроса, не дозволено применять для указанного ресурса\n"
          ]
        }
      ]
    },
    {
      "cell_type": "markdown",
      "source": [
        "Задание 2"
      ],
      "metadata": {
        "id": "T-HXt3outtzy"
      }
    },
    {
      "cell_type": "code",
      "source": [
        "x=int(input())\n",
        "y=int(input())\n",
        "if x>0 and y>0:\n",
        "    print(\"в первой четверти\")\n",
        "if x<0 and y>0:\n",
        "    print(\"во второй четверти\")\n",
        "if x<0 and y<0:\n",
        "    print(\"в третьей четверти\")\n",
        "if x>0 and y<0:\n",
        "    print(\"в четвертой четверти\")"
      ],
      "metadata": {
        "colab": {
          "base_uri": "https://localhost:8080/"
        },
        "id": "kkq2cuKTulE-",
        "outputId": "b2674f58-800f-4213-eaf1-5f470c7ff67f"
      },
      "execution_count": 8,
      "outputs": [
        {
          "output_type": "stream",
          "name": "stdout",
          "text": [
            "20\n",
            "-25\n",
            "в четвертой четверти\n"
          ]
        }
      ]
    },
    {
      "cell_type": "markdown",
      "source": [
        "Задание 3"
      ],
      "metadata": {
        "id": "8deqTDIEtvAQ"
      }
    },
    {
      "cell_type": "code",
      "source": [
        "year=int(input())\n",
        "if year%4==0:\n",
        "  print(\"ДА\")\n",
        "elif year %100==0 and year%400==0:\n",
        "  print(\"да\")\n",
        "else:\n",
        "  print(\"нет\")"
      ],
      "metadata": {
        "colab": {
          "base_uri": "https://localhost:8080/"
        },
        "id": "y_XE_DCVul1E",
        "outputId": "b7f6de8e-90dd-4d7a-b0ba-7efeaf30d891"
      },
      "execution_count": 9,
      "outputs": [
        {
          "output_type": "stream",
          "name": "stdout",
          "text": [
            "1234\n",
            "нет\n"
          ]
        }
      ]
    },
    {
      "cell_type": "markdown",
      "source": [
        "Практика 5"
      ],
      "metadata": {
        "id": "mF7eF1sOtxs1"
      }
    },
    {
      "cell_type": "markdown",
      "source": [
        "Задание 1"
      ],
      "metadata": {
        "id": "kHpKzYkMt0iD"
      }
    },
    {
      "cell_type": "code",
      "source": [
        "n = int(input())\n",
        "m = int(input())\n",
        "if n > m:\n",
        "    print(\"Ошибка! Число n должно быть меньше или равно числу m.\")\n",
        "else:\n",
        "    total_sum = sum(range(n, m + 1))\n",
        "    print(f\"Сумма чисел от {n} до {m} равна {total_sum}.\")"
      ],
      "metadata": {
        "colab": {
          "base_uri": "https://localhost:8080/"
        },
        "id": "eNx5kD-qumjC",
        "outputId": "6cb7df91-0e95-4de3-8094-a690bb5ccfa6"
      },
      "execution_count": 10,
      "outputs": [
        {
          "output_type": "stream",
          "name": "stdout",
          "text": [
            "Введите число n: 15\n",
            "Введите число m: 16\n",
            "Сумма чисел от 15 до 16 равна 31.\n"
          ]
        }
      ]
    },
    {
      "cell_type": "markdown",
      "source": [
        "Задание 2"
      ],
      "metadata": {
        "id": "zOAfsc-Bt1p5"
      }
    },
    {
      "cell_type": "code",
      "source": [
        "while True:\n",
        "    n = int(input())\n",
        "    m = int(input())\n",
        "    if n == m:\n",
        "        break\n",
        "    result = n + m\n",
        "    print(f\"Сумма чисел {n} и {m} равна {result}\")"
      ],
      "metadata": {
        "colab": {
          "base_uri": "https://localhost:8080/"
        },
        "id": "3gqp411HunDY",
        "outputId": "ed9d8492-c360-42c0-fb29-abc88bdc98d3"
      },
      "execution_count": 12,
      "outputs": [
        {
          "name": "stdout",
          "output_type": "stream",
          "text": [
            "45\n",
            "26\n",
            "Сумма чисел 45 и 26 равна 71\n",
            "15\n",
            "15\n"
          ]
        }
      ]
    },
    {
      "cell_type": "markdown",
      "source": [
        "Задание 3"
      ],
      "metadata": {
        "id": "P7rCLaGbt3Dv"
      }
    },
    {
      "cell_type": "code",
      "execution_count": null,
      "metadata": {
        "id": "ynG8WZPNtF7E"
      },
      "outputs": [],
      "source": []
    },
    {
      "cell_type": "markdown",
      "source": [
        "Практика 6"
      ],
      "metadata": {
        "id": "Mi4OQKnPt_-4"
      }
    },
    {
      "cell_type": "markdown",
      "source": [
        "Задание 1"
      ],
      "metadata": {
        "id": "R9KbIswmuPq5"
      }
    },
    {
      "cell_type": "code",
      "source": [
        "num=[]\n",
        "square=[]\n",
        "cube=[]\n",
        "for i in range (1,11):\n",
        "  num.append(i)\n",
        "  square.append(i**2)\n",
        "  cube.append(i**3)\n",
        "print(\"число\", num)\n",
        "print(\"квадрат\", square)\n",
        "print(\"куб\", cube)"
      ],
      "metadata": {
        "colab": {
          "base_uri": "https://localhost:8080/"
        },
        "id": "gyTx2HH8un-c",
        "outputId": "fe0ed412-875b-49fb-80c5-514bc4eadd58"
      },
      "execution_count": 13,
      "outputs": [
        {
          "output_type": "stream",
          "name": "stdout",
          "text": [
            "число [1, 2, 3, 4, 5, 6, 7, 8, 9, 10]\n",
            "квадрат [1, 4, 9, 16, 25, 36, 49, 64, 81, 100]\n",
            "куб [1, 8, 27, 64, 125, 216, 343, 512, 729, 1000]\n"
          ]
        }
      ]
    },
    {
      "cell_type": "markdown",
      "source": [
        "Задание 2"
      ],
      "metadata": {
        "id": "KDIj5jmyuTKh"
      }
    },
    {
      "cell_type": "code",
      "source": [
        "spisok=[]\n",
        "a=1\n",
        "while a!=0:\n",
        "  a=int(input())\n",
        "  spisok.append(a)\n",
        "print(\"минимальное число\", min(spisok))\n",
        "print(\"максимальное число\", max(spisok))\n",
        "print(\"список по возрастанию\", sorted(spisok))\n",
        "print(\"по убыванию\", reversed(sorted(spisok)))\n",
        "print(\"количество элементов\", len(spisok))\n",
        "print(\"единицы\", spisok.count(1))\n",
        "print(\"сумма\", sum(spisok))\n",
        "print(\"индекс и значение последнего числа\",len(spisok)-1 )"
      ],
      "metadata": {
        "colab": {
          "base_uri": "https://localhost:8080/"
        },
        "id": "SJN9fYr2uoxi",
        "outputId": "7140db16-1db1-45c6-88e5-cfee881a4140"
      },
      "execution_count": 16,
      "outputs": [
        {
          "output_type": "stream",
          "name": "stdout",
          "text": [
            "46\n",
            "26\n",
            "26\n",
            "265\n",
            "564\n",
            "216\n",
            "26\n",
            "26\n",
            "615\n",
            "165\n",
            "0\n",
            "минимальное число 0\n",
            "максимальное число 615\n",
            "список по возрастанию [0, 26, 26, 26, 26, 46, 165, 216, 265, 564, 615]\n",
            "по убыванию <list_reverseiterator object at 0x7cce1a124a60>\n",
            "количество элементов 11\n",
            "единицы 0\n",
            "сумма 1975\n",
            "индекс и значение последнего числа 10\n"
          ]
        }
      ]
    },
    {
      "cell_type": "markdown",
      "source": [
        "Задание 3"
      ],
      "metadata": {
        "id": "uAFI_n5wuUgf"
      }
    },
    {
      "cell_type": "code",
      "source": [
        "nums = []\n",
        "\n",
        "while True:\n",
        "  num = int(input())\n",
        "  print(\"Остаток от деления на 10:\", num % 10)\n",
        "  if num == 0:\n",
        "    break\n",
        "  if num % 2 == 0:\n",
        "    nums.append(num)\n",
        "\n",
        "for i in nums:\n",
        "  if nums[i] % 10 == 0:\n",
        "    nums.remove(nums[i])\n",
        "print(nums)"
      ],
      "metadata": {
        "colab": {
          "base_uri": "https://localhost:8080/"
        },
        "id": "Rl_jf1QCupsK",
        "outputId": "3fd165e7-1958-47ac-ed38-86056acaef61"
      },
      "execution_count": 19,
      "outputs": [
        {
          "output_type": "stream",
          "name": "stdout",
          "text": [
            "465\n",
            "Остаток от деления на 10: 5\n",
            "0\n",
            "Остаток от деления на 10: 0\n",
            "[]\n"
          ]
        }
      ]
    },
    {
      "cell_type": "markdown",
      "source": [
        "Практика 7"
      ],
      "metadata": {
        "id": "79hG_Y3LuDfK"
      }
    },
    {
      "cell_type": "markdown",
      "source": [
        "Задание 1"
      ],
      "metadata": {
        "id": "qpncrgeRuWKn"
      }
    },
    {
      "cell_type": "code",
      "source": [
        "n = int(input(\"кол-во столбцов и строк \"))\n",
        "x = []\n",
        "y = []\n",
        "a = 0\n",
        "for i in range(n):\n",
        "  for f in range(n):\n",
        "    a = a + 1\n",
        "    y.append(a)\n",
        "  x.append(y)\n",
        "  y = []\n",
        "print(x)\n",
        "if len(x) == 1:\n",
        "  print(\"Определитель матрицы равен\", x[0][0])\n",
        "if len(x) == 2:\n",
        "  print(\"Определитель матрицы равен\", x[0][0] * x[1][1] - x[0][1] * x[1][0])"
      ],
      "metadata": {
        "colab": {
          "base_uri": "https://localhost:8080/"
        },
        "id": "RxatruZxuqR9",
        "outputId": "a6a3e963-445d-4080-ddfe-74a9cb5775da"
      },
      "execution_count": 20,
      "outputs": [
        {
          "output_type": "stream",
          "name": "stdout",
          "text": [
            "кол-во столбцов и строк 2\n",
            "[[1, 2], [3, 4]]\n",
            "Определитель матрицы равен -2\n"
          ]
        }
      ]
    },
    {
      "cell_type": "markdown",
      "source": [
        "Задание 2"
      ],
      "metadata": {
        "id": "ShEdrtgGuXQ7"
      }
    },
    {
      "cell_type": "code",
      "source": [
        "table = [['ФИО','Балл по программированию','Балл по ОБЖ','Балл по алгебре'],['Петров', '78', '93', '61'],['Иванов', '56', '67', '73'],['Сидоров', '81', '75', '70']]\n",
        "\n",
        "subjects = table[0][1:]\n",
        "scores = table[0:][1:]\n",
        "sub_1_scores = table[0:][1]\n",
        "sub_2_scores = table[0:][2]\n",
        "sub_3_scores = table[0:][3]\n",
        "\n",
        "print(sub_1_scores)"
      ],
      "metadata": {
        "colab": {
          "base_uri": "https://localhost:8080/"
        },
        "id": "ZxSLHKSdurIt",
        "outputId": "43715bee-de96-4e7d-cce7-adea2b061052"
      },
      "execution_count": 22,
      "outputs": [
        {
          "output_type": "stream",
          "name": "stdout",
          "text": [
            "['Петров', '78', '93', '61']\n"
          ]
        }
      ]
    },
    {
      "cell_type": "markdown",
      "source": [
        "Практика 9"
      ],
      "metadata": {
        "id": "EwD0oJzhuGbT"
      }
    },
    {
      "cell_type": "markdown",
      "source": [
        "Задание 1"
      ],
      "metadata": {
        "id": "MPVlNDpuuZOg"
      }
    },
    {
      "cell_type": "code",
      "source": [
        "def main():\n",
        "    counts = {}\n",
        "    while True:\n",
        "        user_input = input(\"Введите число: \")\n",
        "        if user_input.upper() == '0':\n",
        "            break\n",
        "        try:\n",
        "            number = float(user_input)\n",
        "            if number in counts:\n",
        "                counts[number] += 1\n",
        "            else:\n",
        "                counts[number] = 1\n",
        "        except ValueError:\n",
        "            print(\"Пожалуйста, введите корректное число.\")\n",
        "    unique_values = list(counts.keys())\n",
        "    print(\"Словарь с количеством вхождений:\", counts)\n",
        "    print(\"Список уникальных значений:\", unique_values)\n",
        "if __name__ == \"__main__\":\n",
        "    main()"
      ],
      "metadata": {
        "colab": {
          "base_uri": "https://localhost:8080/"
        },
        "id": "0rZwN4QRurx5",
        "outputId": "b87106da-de91-49aa-fd94-5085d96ef189"
      },
      "execution_count": 23,
      "outputs": [
        {
          "output_type": "stream",
          "name": "stdout",
          "text": [
            "Введите число: 25\n",
            "Введите число: 0\n",
            "Словарь с количеством вхождений: {25.0: 1}\n",
            "Список уникальных значений: [25.0]\n"
          ]
        }
      ]
    },
    {
      "cell_type": "markdown",
      "source": [
        "Задание 2"
      ],
      "metadata": {
        "id": "9U9HDSd4ubY3"
      }
    },
    {
      "cell_type": "code",
      "source": [
        "def add_entry(phone_book):\n",
        "    name = input(\"Введите имя: \")\n",
        "    phone_number = input(\"Введите номер телефона: \")\n",
        "    phone_book[name] = phone_number\n",
        "    print(f\"Запись для {name} успешно добавлена.\")\n",
        "\n",
        "def lookup_number(phone_book):\n",
        "    name = input(\"Введите имя для поиска номера телефона: \")\n",
        "    if name in phone_book:\n",
        "        print(f\"Номер телефона для {name}: {phone_book[name]}\")\n",
        "    else:\n",
        "        print(f\"Запись для {name} не найдена.\")\n",
        "\n",
        "def main():\n",
        "    phone_book = {}\n",
        "\n",
        "    while True:\n",
        "        command = input(\"Введите команду (add - добавить запись, who - узнать номер, exit - выйти): \").strip().lower()\n",
        "\n",
        "        if command == 'add':\n",
        "            add_entry(phone_book)\n",
        "        elif command == 'who':\n",
        "            lookup_number(phone_book)\n",
        "        elif command == 'exit':\n",
        "            print(\"Выход из программы.\")\n",
        "            break\n",
        "        else:\n",
        "            print(\"Неизвестная команда. Пожалуйста, введите 'add', 'who' или 'exit'.\")\n",
        "\n",
        "if __name__ == \"__main__\":\n",
        "    main()"
      ],
      "metadata": {
        "id": "nmjkq8-uusPr"
      },
      "execution_count": null,
      "outputs": []
    },
    {
      "cell_type": "markdown",
      "source": [
        "Практика 10"
      ],
      "metadata": {
        "id": "6AE6r_PJuLjd"
      }
    },
    {
      "cell_type": "markdown",
      "source": [
        "Задание 1"
      ],
      "metadata": {
        "id": "vSuj0E3Duc5Y"
      }
    },
    {
      "cell_type": "code",
      "source": [
        "def sum_numbers():\n",
        "    da = 0\n",
        "    while True:\n",
        "      number = int(input())\n",
        "      if number == 0:\n",
        "         break\n",
        "      da += number\n",
        "    return da\n",
        "result = sum_numbers()\n",
        "print(f\"Сумма: {result}\")"
      ],
      "metadata": {
        "id": "J4cDMqeUutMk"
      },
      "execution_count": null,
      "outputs": []
    },
    {
      "cell_type": "markdown",
      "source": [
        "Задание 2"
      ],
      "metadata": {
        "id": "c49L4BIcueWT"
      }
    },
    {
      "cell_type": "code",
      "source": [
        "def input_con():\n",
        "    con = {}\n",
        "    while True:\n",
        "        entry = input(\"Введите имя и номер телефона \")\n",
        "        name, phone = entry.split()\n",
        "        if name == '0' and phone == '0':\n",
        "            break\n",
        "        con[name] = phone\n",
        "    return con\n",
        "def sort_num(con):\n",
        "  return sorted(con.values())\n",
        "def sort_names(con):\n",
        "    return sorted(con.keys())\n",
        "con = input_con()\n",
        "sorted_num = sort_num(con)\n",
        "sorted_names = sort_names(con)\n",
        "print(\"Номера телефонов \", sorted_num)\n",
        "print(\"Имена \", sorted_names)"
      ],
      "metadata": {
        "id": "tndHoWfNutmw"
      },
      "execution_count": null,
      "outputs": []
    },
    {
      "cell_type": "markdown",
      "source": [
        "Практика 11"
      ],
      "metadata": {
        "id": "0q1ntISz4gyL"
      }
    },
    {
      "cell_type": "markdown",
      "source": [
        "задание 1"
      ],
      "metadata": {
        "id": "nNILZLQX4j9Y"
      }
    },
    {
      "cell_type": "code",
      "source": [
        "import random\n",
        "\n",
        "with open('/input.txt', 'r', encoding='utf-8') as infile:\n",
        "    lines = infile.readlines()\n",
        "\n",
        "with open('/result.txt', 'w', encoding='utf-8') as outfile:\n",
        "    for line in lines:\n",
        "        random_number = random.randint(1000, 9999)\n",
        "        outfile.write(f\"{line.strip()} {random_number}\\n\")"
      ],
      "metadata": {
        "id": "Vh12oJVt4lae"
      },
      "execution_count": null,
      "outputs": []
    }
  ]
}