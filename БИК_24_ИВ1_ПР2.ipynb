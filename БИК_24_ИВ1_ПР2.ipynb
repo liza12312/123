{
  "nbformat": 4,
  "nbformat_minor": 0,
  "metadata": {
    "colab": {
      "provenance": [],
      "authorship_tag": "ABX9TyOW2aqgvSfpzmTpba48+kZT",
      "include_colab_link": true
    },
    "kernelspec": {
      "name": "python3",
      "display_name": "Python 3"
    },
    "language_info": {
      "name": "python"
    }
  },
  "cells": [
    {
      "cell_type": "markdown",
      "metadata": {
        "id": "view-in-github",
        "colab_type": "text"
      },
      "source": [
        "<a href=\"https://colab.research.google.com/github/liza12312/123/blob/main/%D0%91%D0%98%D0%9A_24_%D0%98%D0%921_%D0%9F%D0%A02.ipynb\" target=\"_parent\"><img src=\"https://colab.research.google.com/assets/colab-badge.svg\" alt=\"Open In Colab\"/></a>"
      ]
    },
    {
      "cell_type": "markdown",
      "source": [
        "есть треугольник известно 2 стороны найти его площадь"
      ],
      "metadata": {
        "id": "yhHnXhrHEmNx"
      }
    },
    {
      "cell_type": "code",
      "execution_count": 1,
      "metadata": {
        "colab": {
          "base_uri": "https://localhost:8080/"
        },
        "id": "YWfoSFW8_8Fi",
        "outputId": "8bb74eb6-9746-4ad5-d57d-f7c6e0c97e6d"
      },
      "outputs": [
        {
          "output_type": "stream",
          "name": "stdout",
          "text": [
            "2\n",
            "5\n",
            "площадь = 5\n"
          ]
        }
      ],
      "source": [
        "a=int(input())\n",
        "b=int(input())\n",
        "s=(a*b)/2\n",
        "print(\"площадь =\", s)"
      ]
    },
    {
      "cell_type": "markdown",
      "source": [
        "дано трехзначное число в отдельной строке все цифры"
      ],
      "metadata": {
        "id": "9xfl7hXRHiJj"
      }
    },
    {
      "cell_type": "code",
      "source": [
        "a=int(input())\n",
        "x1=a//100\n",
        "x2=(a//10)%10\n",
        "x3=a%10\n",
        "print(x1, x2, x3,)"
      ],
      "metadata": {
        "colab": {
          "base_uri": "https://localhost:8080/"
        },
        "id": "r4vjY1SBHNjl",
        "outputId": "2640710f-0f25-4cc7-d2ad-851cbe3d6eee"
      },
      "execution_count": 2,
      "outputs": [
        {
          "output_type": "stream",
          "name": "stdout",
          "text": [
            "567\n",
            "5 6 7\n"
          ]
        }
      ]
    },
    {
      "cell_type": "markdown",
      "source": [
        "дано секунды, перевести в часы и минуты"
      ],
      "metadata": {
        "id": "egdAyYk7Kl5j"
      }
    },
    {
      "cell_type": "code",
      "source": [
        "n=int(input())\n",
        "x3=(n//86400)\n",
        "x1=(n//3600)%3600\n",
        "x2=(n//60)%60\n",
        "print"
      ],
      "metadata": {
        "colab": {
          "base_uri": "https://localhost:8080/"
        },
        "id": "lMvrMn9RK2OD",
        "outputId": "ddf503b3-8d38-4195-a711-acc14c4d1d3d"
      },
      "execution_count": 6,
      "outputs": [
        {
          "output_type": "stream",
          "name": "stdout",
          "text": [
            "7545\n",
            "2 : 5\n"
          ]
        }
      ]
    }
  ]
}