{
  "nbformat": 4,
  "nbformat_minor": 0,
  "metadata": {
    "colab": {
      "provenance": [],
      "authorship_tag": "ABX9TyPmdAPZLjwmLXsxs/oNbKgD",
      "include_colab_link": true
    },
    "kernelspec": {
      "name": "python3",
      "display_name": "Python 3"
    },
    "language_info": {
      "name": "python"
    }
  },
  "cells": [
    {
      "cell_type": "markdown",
      "metadata": {
        "id": "view-in-github",
        "colab_type": "text"
      },
      "source": [
        "<a href=\"https://colab.research.google.com/github/liza12312/123/blob/main/%D0%9F%D0%B8%D0%BB%D0%B8%D0%BA%D0%B8%D0%BD%D0%B0_%D0%91%D0%98%D0%9A_24_%D0%98%D0%921_%D0%9B%D0%913.ipynb\" target=\"_parent\"><img src=\"https://colab.research.google.com/assets/colab-badge.svg\" alt=\"Open In Colab\"/></a>"
      ]
    },
    {
      "cell_type": "markdown",
      "source": [],
      "metadata": {
        "id": "aHZfcN8HGboS"
      }
    },
    {
      "cell_type": "code",
      "execution_count": 3,
      "metadata": {
        "colab": {
          "base_uri": "https://localhost:8080/"
        },
        "id": "oY8YNuwnEKBb",
        "outputId": "4938a13a-09b7-43ce-94ea-f2e7b2a93ec4"
      },
      "outputs": [
        {
          "output_type": "stream",
          "name": "stdout",
          "text": [
            "gjh,kdjhg,djkh,odgh\n",
            "3,5,4,4\n"
          ]
        }
      ],
      "source": [
        "a=input()\n",
        "b=a.split(',')\n",
        "c=b[0]\n",
        "d=b[1]\n",
        "e=b[2]\n",
        "f=b[3]\n",
        "print(len(c), len(d), len(e), len(f), sep=',')"
      ]
    },
    {
      "cell_type": "code",
      "source": [
        "n=8\n",
        "m=5\n",
        "stroka=('Привет, мир')\n"
      ],
      "metadata": {
        "id": "yL9akv23MFU3"
      },
      "execution_count": null,
      "outputs": []
    }
  ]
}