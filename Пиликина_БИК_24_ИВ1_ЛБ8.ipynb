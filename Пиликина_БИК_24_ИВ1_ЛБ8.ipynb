{
  "nbformat": 4,
  "nbformat_minor": 0,
  "metadata": {
    "colab": {
      "provenance": [],
      "authorship_tag": "ABX9TyNKZWArBdBthSZYW8fTJQnb",
      "include_colab_link": true
    },
    "kernelspec": {
      "name": "python3",
      "display_name": "Python 3"
    },
    "language_info": {
      "name": "python"
    }
  },
  "cells": [
    {
      "cell_type": "markdown",
      "metadata": {
        "id": "view-in-github",
        "colab_type": "text"
      },
      "source": [
        "<a href=\"https://colab.research.google.com/github/liza12312/123/blob/main/%D0%9F%D0%B8%D0%BB%D0%B8%D0%BA%D0%B8%D0%BD%D0%B0_%D0%91%D0%98%D0%9A_24_%D0%98%D0%921_%D0%9B%D0%918.ipynb\" target=\"_parent\"><img src=\"https://colab.research.google.com/assets/colab-badge.svg\" alt=\"Open In Colab\"/></a>"
      ]
    },
    {
      "cell_type": "markdown",
      "source": [
        "1 задача"
      ],
      "metadata": {
        "id": "Ic-loOEWVpGk"
      }
    },
    {
      "cell_type": "code",
      "execution_count": 1,
      "metadata": {
        "colab": {
          "base_uri": "https://localhost:8080/"
        },
        "id": "4aLn92pCG8M2",
        "outputId": "cf45984d-f8b6-4da8-ff5a-a7d0c346c7e1"
      },
      "outputs": [
        {
          "output_type": "stream",
          "name": "stdout",
          "text": [
            "Введите число: 55\n",
            "Введите число: 1\n",
            "Введите число: 0\n",
            "Словарь с количеством вхождений: {55.0: 1, 1.0: 1}\n",
            "Список уникальных значений: [55.0, 1.0]\n"
          ]
        }
      ],
      "source": [
        "def main():\n",
        "    counts = {}\n",
        "    while True:\n",
        "        user_input = input(\"Введите число: \")\n",
        "        if user_input.upper() == '0':\n",
        "            break\n",
        "        try:\n",
        "            number = float(user_input)\n",
        "            if number in counts:\n",
        "                counts[number] += 1\n",
        "            else:\n",
        "                counts[number] = 1\n",
        "        except ValueError:\n",
        "            print(\"Пожалуйста, введите корректное число.\")\n",
        "    unique_values = list(counts.keys())\n",
        "    print(\"Словарь с количеством вхождений:\", counts)\n",
        "    print(\"Список уникальных значений:\", unique_values)\n",
        "if __name__ == \"__main__\":\n",
        "    main()"
      ]
    },
    {
      "cell_type": "markdown",
      "source": [
        "2 задача"
      ],
      "metadata": {
        "id": "xe-5m0WvWGtA"
      }
    },
    {
      "cell_type": "code",
      "source": [
        "def add_entry(phone_book):\n",
        "    name = input(\"Введите имя: \")\n",
        "    phone_number = input(\"Введите номер телефона: \")\n",
        "    phone_book[name] = phone_number\n",
        "    print(f\"Запись для {name} успешно добавлена.\")\n",
        "\n",
        "def lookup_number(phone_book):\n",
        "    name = input(\"Введите имя для поиска номера телефона: \")\n",
        "    if name in phone_book:\n",
        "        print(f\"Номер телефона для {name}: {phone_book[name]}\")\n",
        "    else:\n",
        "        print(f\"Запись для {name} не найдена.\")\n",
        "\n",
        "def main():\n",
        "    phone_book = {}\n",
        "\n",
        "    while True:\n",
        "        command = input(\"Введите команду (add - добавить запись, who - узнать номер, exit - выйти): \").strip().lower()\n",
        "\n",
        "        if command == 'add':\n",
        "            add_entry(phone_book)\n",
        "        elif command == 'who':\n",
        "            lookup_number(phone_book)\n",
        "        elif command == 'exit':\n",
        "            print(\"Выход из программы.\")\n",
        "            break\n",
        "        else:\n",
        "            print(\"Неизвестная команда. Пожалуйста, введите 'add', 'who' или 'exit'.\")\n",
        "\n",
        "if __name__ == \"__main__\":\n",
        "    main()"
      ],
      "metadata": {
        "colab": {
          "base_uri": "https://localhost:8080/"
        },
        "id": "uY-hNQKSWKBx",
        "outputId": "f920aaca-f86f-47b3-da02-3fbff57e6110"
      },
      "execution_count": 2,
      "outputs": [
        {
          "output_type": "stream",
          "name": "stdout",
          "text": [
            "Введите команду (add - добавить запись, who - узнать номер, exit - выйти): add \n",
            "Введите имя: олег\n",
            "Введите номер телефона: +7562652654561565\n",
            "Запись для олег успешно добавлена.\n",
            "Введите команду (add - добавить запись, who - узнать номер, exit - выйти): add\n",
            "Введите имя: иван\n",
            "Введите номер телефона: +765656255652561\n",
            "Запись для иван успешно добавлена.\n",
            "Введите команду (add - добавить запись, who - узнать номер, exit - выйти): add\n",
            "Введите имя: данил\n",
            "Введите номер телефона: +7526262262620562\n",
            "Запись для данил успешно добавлена.\n",
            "Введите команду (add - добавить запись, who - узнать номер, exit - выйти): who\n",
            "Введите имя для поиска номера телефона: jktu\n",
            "Запись для jktu не найдена.\n",
            "Введите команду (add - добавить запись, who - узнать номер, exit - выйти): exit\n",
            "Выход из программы.\n"
          ]
        }
      ]
    },
    {
      "cell_type": "code",
      "source": [],
      "metadata": {
        "id": "2tRPSZ66aoxD"
      },
      "execution_count": null,
      "outputs": []
    }
  ]
}