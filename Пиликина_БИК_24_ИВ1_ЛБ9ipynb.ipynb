{
  "nbformat": 4,
  "nbformat_minor": 0,
  "metadata": {
    "colab": {
      "provenance": [],
      "authorship_tag": "ABX9TyPsH2UCj8J9TfWSA8DRalPf",
      "include_colab_link": true
    },
    "kernelspec": {
      "name": "python3",
      "display_name": "Python 3"
    },
    "language_info": {
      "name": "python"
    }
  },
  "cells": [
    {
      "cell_type": "markdown",
      "metadata": {
        "id": "view-in-github",
        "colab_type": "text"
      },
      "source": [
        "<a href=\"https://colab.research.google.com/github/liza12312/123/blob/main/%D0%9F%D0%B8%D0%BB%D0%B8%D0%BA%D0%B8%D0%BD%D0%B0_%D0%91%D0%98%D0%9A_24_%D0%98%D0%921_%D0%9B%D0%919ipynb.ipynb\" target=\"_parent\"><img src=\"https://colab.research.google.com/assets/colab-badge.svg\" alt=\"Open In Colab\"/></a>"
      ]
    },
    {
      "cell_type": "markdown",
      "source": [
        "Задание 1"
      ],
      "metadata": {
        "id": "cOU3DT1UKgw1"
      }
    },
    {
      "cell_type": "code",
      "execution_count": 3,
      "metadata": {
        "colab": {
          "base_uri": "https://localhost:8080/"
        },
        "id": "DQNwjcY1KaJT",
        "outputId": "0be587d5-964f-441c-fd09-c88d8c71a1f5"
      },
      "outputs": [
        {
          "output_type": "stream",
          "name": "stdout",
          "text": [
            "2\n",
            "5\n",
            "46\n",
            "58\n",
            "13\n",
            "15\n",
            "166\n",
            "14\n",
            "44\n",
            "6\n",
            "852\n",
            "0\n",
            "Сумма: 1221\n"
          ]
        }
      ],
      "source": [
        "def sum_numbers():\n",
        "    da = 0\n",
        "    while True:\n",
        "      number = int(input())\n",
        "      if number == 0:\n",
        "         break\n",
        "      da += number\n",
        "    return da\n",
        "result = sum_numbers()\n",
        "print(f\"Сумма: {result}\")"
      ]
    },
    {
      "cell_type": "markdown",
      "source": [
        "Задание 2"
      ],
      "metadata": {
        "id": "IiTL1SRyUiR2"
      }
    },
    {
      "cell_type": "code",
      "source": [
        "def input_con():\n",
        "    con = {}\n",
        "    while True:\n",
        "        entry = input(\"Введите имя и номер телефона \")\n",
        "        name, phone = entry.split()\n",
        "        if name == '0' and phone == '0':\n",
        "            break\n",
        "        con[name] = phone\n",
        "    return con\n",
        "def sort_num(con):\n",
        "  return sorted(con.values())\n",
        "def sort_names(con):\n",
        "    return sorted(con.keys())\n",
        "con = input_con()\n",
        "sorted_num = sort_num(con)\n",
        "sorted_names = sort_names(con)\n",
        "print(\"Номера телефонов \", sorted_num)\n",
        "print(\"Имена \", sorted_names)"
      ],
      "metadata": {
        "colab": {
          "base_uri": "https://localhost:8080/"
        },
        "id": "yDaHwBWrUjBu",
        "outputId": "db2f1280-cae3-495e-d6ed-31dc60a6157a"
      },
      "execution_count": 7,
      "outputs": [
        {
          "output_type": "stream",
          "name": "stdout",
          "text": [
            "Введите имя и номер телефона uirhtgnjirgjbjnriogm 1544154516\n",
            "Введите имя и номер телефона kjknhjnvhhinfvhjnjnj 26195459\n",
            "Введите имя и номер телефона hjbvdhbhufbvibuu 515649852956\n",
            "Введите имя и номер телефона hbfhgnbhjihgnjnibjnhifgbnjn 5156651652165\n",
            "Введите имя и номер телефона 0 0\n",
            "Номера телефонов  ['1544154516', '26195459', '515649852956', '5156651652165']\n",
            "Имена  ['hbfhgnbhjihgnjnibjnhifgbnjn', 'hjbvdhbhufbvibuu', 'kjknhjnvhhinfvhjnjnj', 'uirhtgnjirgjbjnriogm']\n"
          ]
        }
      ]
    }
  ]
}