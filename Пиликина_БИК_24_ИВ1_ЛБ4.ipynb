{
  "nbformat": 4,
  "nbformat_minor": 0,
  "metadata": {
    "colab": {
      "provenance": [],
      "authorship_tag": "ABX9TyPYaU63HvkuAj0H9p7luizd",
      "include_colab_link": true
    },
    "kernelspec": {
      "name": "python3",
      "display_name": "Python 3"
    },
    "language_info": {
      "name": "python"
    }
  },
  "cells": [
    {
      "cell_type": "markdown",
      "metadata": {
        "id": "view-in-github",
        "colab_type": "text"
      },
      "source": [
        "<a href=\"https://colab.research.google.com/github/liza12312/123/blob/main/%D0%9F%D0%B8%D0%BB%D0%B8%D0%BA%D0%B8%D0%BD%D0%B0_%D0%91%D0%98%D0%9A_24_%D0%98%D0%921_%D0%9B%D0%914.ipynb\" target=\"_parent\"><img src=\"https://colab.research.google.com/assets/colab-badge.svg\" alt=\"Open In Colab\"/></a>"
      ]
    },
    {
      "cell_type": "markdown",
      "source": [
        "1 задание"
      ],
      "metadata": {
        "id": "PxNLAZKwKHtq"
      }
    },
    {
      "cell_type": "code",
      "execution_count": 4,
      "metadata": {
        "colab": {
          "base_uri": "https://localhost:8080/"
        },
        "id": "dY-zXwWb_Jae",
        "outputId": "175b3ac9-1842-478e-d002-6c7b5b518c0e"
      },
      "outputs": [
        {
          "output_type": "stream",
          "name": "stdout",
          "text": [
            "405\n",
            " «недопустимый метод» (Method Not Allowed). Метод, определённый в строке запроса, не дозволено применять для указанного ресурса\n"
          ]
        }
      ],
      "source": [
        "error=int(input())\n",
        "match error:\n",
        "  case 400:\n",
        "    print(\"«неправильный, некорректный запрос» (Bad Request). Сервер обнаружил в запросе клиента синтаксическую ошибку.\")\n",
        "  case 401:\n",
        "    print(\"«не авторизован» (Unauthorized). Для доступа к запрашиваемому ресурсу требуется аутентификация. \")\n",
        "  case 402:\n",
        "    print(\"«необходима оплата» (Payment Required). 5 Внутренняя ошибка или ошибка конфигурации сервера. \")\n",
        "  case 403:\n",
        "    print(\"«доступ к ресурсу запрещён» (Forbidden). Доступ к документу запрещён\")\n",
        "  case 404:\n",
        "    print(\" «ресурс не найден» (Not Found). 45 Документ не существует.\")\n",
        "  case 405:\n",
        "    print(\" «недопустимый метод» (Method Not Allowed). Метод, определённый в строке запроса, не дозволено применять для указанного ресурса\")\n",
        "  case 406:\n",
        "    print(\"«неприемлемый запрос» (Not Acceptable). Нужный документ существует, но не в том формате (язык или кодировка не поддерживаются)\")\n",
        "  case 407:\n",
        "    print(\" «требуется идентификация прокси, файервола» (Proxy Authentication Required). Необходима регистрация на прокси-сервере.\")\n",
        "  case 408:\n",
        "    print(\" «время запроса истекло» (Request Timeout). Сайт не передал полный запрос в течение установленного времени и робот разорвал соединение.\")\n",
        "  case 409:\n",
        "    print(\" «конфликт» (Conflict). Запрос конфликтует с другим запросом или с конфигурацией сервера.\")\n",
        "  case 410:\n",
        "    print(\" «ресурс недоступен» (Gone). Затребованный ресурс был окончательно удалён с сайта.\")"
      ]
    },
    {
      "cell_type": "markdown",
      "source": [
        "Задание 2"
      ],
      "metadata": {
        "id": "4MK92B82Negb"
      }
    },
    {
      "cell_type": "code",
      "source": [
        "x=int(input())\n",
        "y=int(input())\n",
        "if x>0 and y>0:\n",
        "    print(\"в первой четверти\")\n",
        "if x<0 and y>0:\n",
        "    print(\"во второй четверти\")\n",
        "if x<0 and y<0:\n",
        "    print(\"в третьей четверти\")\n",
        "if x>0 and y<0:\n",
        "    print(\"в четвертой четверти\")"
      ],
      "metadata": {
        "colab": {
          "base_uri": "https://localhost:8080/"
        },
        "id": "fWjIuAwBNi6a",
        "outputId": "ecf5538e-db74-44d1-b7d2-6b10770df065"
      },
      "execution_count": 8,
      "outputs": [
        {
          "output_type": "stream",
          "name": "stdout",
          "text": [
            "20\n",
            "-50\n",
            "в четвертой четверти\n"
          ]
        }
      ]
    },
    {
      "cell_type": "markdown",
      "source": [
        "Задача 3"
      ],
      "metadata": {
        "id": "hAMURZHdRCZp"
      }
    },
    {
      "cell_type": "code",
      "source": [
        "year=int(input())\n",
        "if year%4==0:\n",
        "  print(\"ДА\")\n",
        "elif year %100==0 and year%400==0:\n",
        "  print(\"да\")\n",
        "else:\n",
        "  print(\"нет\")"
      ],
      "metadata": {
        "colab": {
          "base_uri": "https://localhost:8080/"
        },
        "id": "IR2O30A6RFK2",
        "outputId": "58f63d51-abce-447e-f6a0-b711370bbb16"
      },
      "execution_count": 9,
      "outputs": [
        {
          "output_type": "stream",
          "name": "stdout",
          "text": [
            "1564\n",
            "ДА\n"
          ]
        }
      ]
    }
  ]
}