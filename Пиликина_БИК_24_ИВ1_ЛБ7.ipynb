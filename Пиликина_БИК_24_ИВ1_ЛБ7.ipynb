{
  "nbformat": 4,
  "nbformat_minor": 0,
  "metadata": {
    "colab": {
      "provenance": [],
      "authorship_tag": "ABX9TyN7MJ4kv+tDtNySmvp/GrJ9",
      "include_colab_link": true
    },
    "kernelspec": {
      "name": "python3",
      "display_name": "Python 3"
    },
    "language_info": {
      "name": "python"
    }
  },
  "cells": [
    {
      "cell_type": "markdown",
      "metadata": {
        "id": "view-in-github",
        "colab_type": "text"
      },
      "source": [
        "<a href=\"https://colab.research.google.com/github/liza12312/123/blob/main/%D0%9F%D0%B8%D0%BB%D0%B8%D0%BA%D0%B8%D0%BD%D0%B0_%D0%91%D0%98%D0%9A_24_%D0%98%D0%921_%D0%9B%D0%917.ipynb\" target=\"_parent\"><img src=\"https://colab.research.google.com/assets/colab-badge.svg\" alt=\"Open In Colab\"/></a>"
      ]
    },
    {
      "cell_type": "markdown",
      "source": [
        "Задача 1"
      ],
      "metadata": {
        "id": "Y3FAQcoaFL5d"
      }
    },
    {
      "cell_type": "code",
      "execution_count": 6,
      "metadata": {
        "colab": {
          "base_uri": "https://localhost:8080/"
        },
        "id": "QIZm8uQoFAmu",
        "outputId": "011989c9-3068-4602-f3a8-2c2a41b6d514"
      },
      "outputs": [
        {
          "output_type": "stream",
          "name": "stdout",
          "text": [
            "кол-во столбцов и строк 2\n",
            "[[1, 2], [3, 4]]\n",
            "Определитель матрицы равен -2\n"
          ]
        }
      ],
      "source": [
        "n = int(input(\"кол-во столбцов и строк \"))\n",
        "x = []\n",
        "y = []\n",
        "a = 0\n",
        "for i in range(n):\n",
        "  for f in range(n):\n",
        "    a = a + 1\n",
        "    y.append(a)\n",
        "  x.append(y)\n",
        "  y = []\n",
        "print(x)\n",
        "if len(x) == 1:\n",
        "  print(\"Определитель матрицы равен\", x[0][0])\n",
        "if len(x) == 2:\n",
        "  print(\"Определитель матрицы равен\", x[0][0] * x[1][1] - x[0][1] * x[1][0])"
      ]
    },
    {
      "cell_type": "markdown",
      "source": [
        "задача 2"
      ],
      "metadata": {
        "id": "4HFls0AsFNGd"
      }
    },
    {
      "cell_type": "code",
      "source": [
        "n = int(input(\"кол-во строк и столбцов \"))\n",
        "x = []\n",
        "y = []\n",
        "a = n**2\n",
        "for i in range(n):\n",
        "  for f in range(n):\n",
        "    y.append(a)\n",
        "    a = a - 1\n",
        "  x.append(y)\n",
        "  y = []\n",
        "print(x)\n"
      ],
      "metadata": {
        "colab": {
          "base_uri": "https://localhost:8080/"
        },
        "id": "4T7wxwj6FMew",
        "outputId": "324f15b8-2765-49a4-c0cc-aafef47bf602"
      },
      "execution_count": 5,
      "outputs": [
        {
          "output_type": "stream",
          "name": "stdout",
          "text": [
            "кол-во строк и столбцов 2\n",
            "[[4, 3], [2, 1]]\n",
            "Определитель матрицы равен -2\n"
          ]
        }
      ]
    },
    {
      "cell_type": "markdown",
      "source": [
        "задача 3"
      ],
      "metadata": {
        "id": "mp_CUOcHSfS3"
      }
    },
    {
      "cell_type": "code",
      "source": [
        "a = [['ФИО','Балл по програмированию','Балл по ОБЖ', 'Балл по алгебре']['Петров ','78','93','61']['Иванов ','56','67','73']['Сидоров ','81','93','70']]\n",
        "c=[]\n"
      ],
      "metadata": {
        "id": "Mtkz_7VHSeaZ"
      },
      "execution_count": null,
      "outputs": []
    }
  ]
}