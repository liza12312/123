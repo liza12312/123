{
  "nbformat": 4,
  "nbformat_minor": 0,
  "metadata": {
    "colab": {
      "provenance": [],
      "authorship_tag": "ABX9TyPPWI48a+YD6UcKmWMfE3nH",
      "include_colab_link": true
    },
    "kernelspec": {
      "name": "python3",
      "display_name": "Python 3"
    },
    "language_info": {
      "name": "python"
    }
  },
  "cells": [
    {
      "cell_type": "markdown",
      "metadata": {
        "id": "view-in-github",
        "colab_type": "text"
      },
      "source": [
        "<a href=\"https://colab.research.google.com/github/liza12312/123/blob/main/%D0%9F%D0%B8%D0%BB%D0%B8%D0%BA%D0%B8%D0%BD%D0%B0_%D0%91%D0%98%D0%9A_24_%D0%98%D0%921_%D0%9B%D0%915.ipynb\" target=\"_parent\"><img src=\"https://colab.research.google.com/assets/colab-badge.svg\" alt=\"Open In Colab\"/></a>"
      ]
    },
    {
      "cell_type": "markdown",
      "source": [
        "1 задание\n",
        "программа считает числа с клавиатуры пока не введен 0 после окончания ввода программы возвращает список состоящий только из тех введеных чисел которые по модулю больше 2 но меньше 5"
      ],
      "metadata": {
        "id": "IBBXUhQdNXrG"
      }
    },
    {
      "cell_type": "code",
      "execution_count": null,
      "metadata": {
        "colab": {
          "base_uri": "https://localhost:8080/"
        },
        "id": "YcjsT21HFTjF",
        "outputId": "854184d2-c1de-43a0-82c0-34bbe80531aa"
      },
      "outputs": [
        {
          "name": "stdout",
          "output_type": "stream",
          "text": [
            "2\n"
          ]
        }
      ],
      "source": [
        "arr=[]\n",
        "el_sum = 0\n",
        "a = int(input())\n",
        "while a != 0:\n",
        "  if (a > 2 and a < 5) or (a > -5 and a < -2):\n",
        "    arr.append(a)\n",
        "    a = int(input())\n",
        "print(el_sum)"
      ]
    }
  ]
}