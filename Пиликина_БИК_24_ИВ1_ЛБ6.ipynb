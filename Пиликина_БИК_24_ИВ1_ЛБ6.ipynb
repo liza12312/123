{
  "nbformat": 4,
  "nbformat_minor": 0,
  "metadata": {
    "colab": {
      "provenance": [],
      "authorship_tag": "ABX9TyPzBbsrmlDpCvyp3Rlvdwnk",
      "include_colab_link": true
    },
    "kernelspec": {
      "name": "python3",
      "display_name": "Python 3"
    },
    "language_info": {
      "name": "python"
    }
  },
  "cells": [
    {
      "cell_type": "markdown",
      "metadata": {
        "id": "view-in-github",
        "colab_type": "text"
      },
      "source": [
        "<a href=\"https://colab.research.google.com/github/liza12312/123/blob/main/%D0%9F%D0%B8%D0%BB%D0%B8%D0%BA%D0%B8%D0%BD%D0%B0_%D0%91%D0%98%D0%9A_24_%D0%98%D0%921_%D0%9B%D0%916.ipynb\" target=\"_parent\"><img src=\"https://colab.research.google.com/assets/colab-badge.svg\" alt=\"Open In Colab\"/></a>"
      ]
    },
    {
      "cell_type": "markdown",
      "source": [
        "Задача 1"
      ],
      "metadata": {
        "id": "M0iKGWwuAGFg"
      }
    },
    {
      "cell_type": "markdown",
      "source": [
        "Задание 1"
      ],
      "metadata": {
        "id": "ZRyUc-06C9ts"
      }
    },
    {
      "cell_type": "code",
      "execution_count": 3,
      "metadata": {
        "id": "Z1sff4Ea_5t2",
        "colab": {
          "base_uri": "https://localhost:8080/"
        },
        "outputId": "92871f76-1699-454b-c5a2-e751c658a48f"
      },
      "outputs": [
        {
          "output_type": "stream",
          "name": "stdout",
          "text": [
            "число [1, 2, 3, 4, 5, 6, 7, 8, 9, 10]\n",
            "квадрат [1, 4, 9, 16, 25, 36, 49, 64, 81, 100]\n",
            "куб [1, 8, 27, 64, 125, 216, 343, 512, 729, 1000]\n"
          ]
        }
      ],
      "source": [
        "num=[]\n",
        "square=[]\n",
        "cube=[]\n",
        "for i in range (1,11):\n",
        "  num.append(i)\n",
        "  square.append(i**2)\n",
        "  cube.append(i**3)\n",
        "print(\"число\", num)\n",
        "print(\"квадрат\", square)\n",
        "print(\"куб\", cube)"
      ]
    },
    {
      "cell_type": "markdown",
      "source": [
        "Задание 2"
      ],
      "metadata": {
        "id": "uV50AdtTGxf4"
      }
    },
    {
      "cell_type": "code",
      "source": [
        "spisok=[]\n",
        "a=1\n",
        "while a!=0:\n",
        "  a=int(input())\n",
        "  spisok.append(a)\n",
        "print(\"минимальное число\", min(spisok))\n",
        "print(\"максимальное число\", max(spisok))\n",
        "print(\"список по возрастанию\", sorted(spisok))\n",
        "print(\"по убыванию\", reversed(sorted(spisok)))\n",
        "print(\"количество элементов\", len(spisok))\n",
        "print(\"единицы\", spisok.count(1))\n",
        "print(\"сумма\", )\n",
        "print(\"индекс и значение последнего числа\", )"
      ],
      "metadata": {
        "colab": {
          "base_uri": "https://localhost:8080/"
        },
        "id": "6W976kbwHNpn",
        "outputId": "23ffeb5f-bbdf-4a14-f5be-378b1be804c9"
      },
      "execution_count": 8,
      "outputs": [
        {
          "output_type": "stream",
          "name": "stdout",
          "text": [
            "12\n",
            "15\n",
            "15\n",
            "4\n",
            "8\n",
            "2\n",
            "6\n",
            "112231654\n",
            "0\n",
            "минимальное число 0\n",
            "максимальное число 112231654\n",
            "список по возрастанию [0, 2, 4, 6, 8, 12, 15, 15, 112231654]\n",
            "по убыванию <list_reverseiterator object at 0x795304cb7a90>\n",
            "количество элементов 9\n",
            "единицы\n",
            "сумма\n",
            "индекс и значение последнего числа\n"
          ]
        }
      ]
    }
  ]
}